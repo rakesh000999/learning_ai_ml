{
 "cells": [
  {
   "cell_type": "markdown",
   "id": "d5dad912-e9b2-48a8-8334-8a693e00d790",
   "metadata": {},
   "source": [
    "# Numpy"
   ]
  },
  {
   "cell_type": "code",
   "execution_count": 1,
   "id": "c6e5ffd9-f9ad-48e9-bf97-4410a511bd2c",
   "metadata": {},
   "outputs": [
    {
     "name": "stdout",
     "output_type": "stream",
     "text": [
      "Requirement already satisfied: numpy in e:\\ai-ml-learning\\streamlit\\environment\\lib\\site-packages (2.2.5)\n"
     ]
    }
   ],
   "source": [
    "!pip install numpy"
   ]
  },
  {
   "cell_type": "code",
   "execution_count": 2,
   "id": "99277706-eef9-4835-bed3-63e1bae32a8d",
   "metadata": {},
   "outputs": [],
   "source": [
    "import numpy as np"
   ]
  },
  {
   "cell_type": "code",
   "execution_count": 7,
   "id": "9ec0fcf1-453e-4009-bb04-bfacc291841f",
   "metadata": {},
   "outputs": [
    {
     "name": "stdout",
     "output_type": "stream",
     "text": [
      "1D Array [1 2 3 4]\n"
     ]
    },
    {
     "data": {
      "text/plain": [
       "array([1, 2, 3, 4])"
      ]
     },
     "execution_count": 7,
     "metadata": {},
     "output_type": "execute_result"
    }
   ],
   "source": [
    "# Create a 1D array\n",
    "arr1 = np.array([1,2,3,4])\n",
    "print(\"1D Array\", arr1)\n",
    "arr1"
   ]
  },
  {
   "cell_type": "code",
   "execution_count": 6,
   "id": "08d7ee5b-d224-4f6d-882b-f8545a3dada0",
   "metadata": {},
   "outputs": [
    {
     "name": "stdout",
     "output_type": "stream",
     "text": [
      "2D Array:\n",
      " [[1 2]\n",
      " [3 4]]\n"
     ]
    }
   ],
   "source": [
    "# Create a 2D array\n",
    "arr2 = np.array([[1,2],[3,4]])\n",
    "print(\"2D Array:\\n\", arr2)"
   ]
  },
  {
   "cell_type": "code",
   "execution_count": null,
   "id": "f57de7aa-ca47-4337-8ebd-8c76a26cc97c",
   "metadata": {},
   "outputs": [],
   "source": []
  },
  {
   "cell_type": "code",
   "execution_count": 10,
   "id": "a42e6c22-3d2d-49d4-b1b5-c662cb6e3f56",
   "metadata": {},
   "outputs": [
    {
     "name": "stdout",
     "output_type": "stream",
     "text": [
      "Array:\n",
      " [[1 2 3]\n",
      " [4 5 6]]\n",
      "Shape: (2, 3)\n",
      "Dimension: 2\n",
      "Data Type: int64\n"
     ]
    }
   ],
   "source": [
    "arr = np.array([[1,2,3],[4,5,6]])\n",
    "print(\"Array:\\n\", arr)\n",
    "print(\"Shape:\", arr.shape)\n",
    "print(\"Dimension:\", arr.ndim)\n",
    "print(\"Data Type:\", arr.dtype)\n"
   ]
  },
  {
   "cell_type": "code",
   "execution_count": 12,
   "id": "6d7ef51a-cd97-456f-9f33-b97e1db9e13e",
   "metadata": {},
   "outputs": [],
   "source": [
    "# 1D Array"
   ]
  },
  {
   "cell_type": "code",
   "execution_count": 16,
   "id": "9db22e1d-4483-4668-aba6-f9b5127fb4cc",
   "metadata": {},
   "outputs": [
    {
     "name": "stdout",
     "output_type": "stream",
     "text": [
      "1D Array: [1 2 3 4]\n",
      "Shape: (4,)\n",
      "Dimension: 1\n",
      "Data Type: int64\n"
     ]
    }
   ],
   "source": [
    "arr_1d = np.array([1,2,3,4])\n",
    "print(\"1D Array:\", arr_1d)\n",
    "print(\"Shape:\", arr_1d.shape)\n",
    "print(\"Dimension:\",arr_1d.ndim)\n",
    "print(\"Data Type:\", arr.dtype)"
   ]
  },
  {
   "cell_type": "code",
   "execution_count": 17,
   "id": "58af14d8-62c0-45e6-bc6c-2594182463c0",
   "metadata": {},
   "outputs": [],
   "source": [
    "# 2D Array"
   ]
  },
  {
   "cell_type": "code",
   "execution_count": 19,
   "id": "cc26f948-76c1-4f11-a2a1-a5e63ca65407",
   "metadata": {},
   "outputs": [
    {
     "name": "stdout",
     "output_type": "stream",
     "text": [
      "1D Array: [[1 2 3]\n",
      " [4 5 6]]\n",
      "Shape: (2, 3)\n",
      "Dimension: 2\n",
      "Data Type: int64\n"
     ]
    }
   ],
   "source": [
    "arr_2d = np.array([[1,2,3],[4,5,6]])\n",
    "print(\"1D Array:\", arr_2d)\n",
    "print(\"Shape:\", arr_2d.shape)\n",
    "print(\"Dimension:\",arr_2d.ndim)\n",
    "print(\"Data Type:\", arr_2d.dtype)"
   ]
  },
  {
   "cell_type": "code",
   "execution_count": null,
   "id": "7243c1e4-105f-41d0-b5d8-fb7384736dc0",
   "metadata": {},
   "outputs": [],
   "source": []
  },
  {
   "cell_type": "code",
   "execution_count": 24,
   "id": "e8f8689b-65b0-414f-a06c-1286dcfeb143",
   "metadata": {},
   "outputs": [],
   "source": [
    "# 3D array"
   ]
  },
  {
   "cell_type": "code",
   "execution_count": 26,
   "id": "610c296b-18f0-4c70-9b05-de5ad76c2e74",
   "metadata": {},
   "outputs": [
    {
     "name": "stdout",
     "output_type": "stream",
     "text": [
      "1D Array: [[[1 2]\n",
      "  [3 4]\n",
      "  [5 6]]]\n",
      "Shape: (1, 3, 2)\n",
      "Dimension: 3\n",
      "Data Type: int64\n"
     ]
    }
   ],
   "source": [
    "arr_3d = np.array([[[1,2],[3,4],[5,6]]])\n",
    "print(\"1D Array:\", arr_3d)\n",
    "print(\"Shape:\", arr_3d.shape)\n",
    "print(\"Dimension:\",arr_3d.ndim)\n",
    "print(\"Data Type:\", arr_3d.dtype)"
   ]
  },
  {
   "cell_type": "code",
   "execution_count": null,
   "id": "31b7cb91-b10b-4c66-ae66-e299da90a049",
   "metadata": {},
   "outputs": [],
   "source": []
  },
  {
   "cell_type": "code",
   "execution_count": null,
   "id": "88f9d7b9-c0b1-46d2-ac6e-ca965e1ac40c",
   "metadata": {},
   "outputs": [],
   "source": [
    "# Array creation"
   ]
  },
  {
   "cell_type": "code",
   "execution_count": 27,
   "id": "15e4959f-27e2-46cd-8236-69584ee1d9e0",
   "metadata": {},
   "outputs": [
    {
     "name": "stdout",
     "output_type": "stream",
     "text": [
      "Zero:\n",
      " [[0. 0. 0.]\n",
      " [0. 0. 0.]]\n"
     ]
    }
   ],
   "source": [
    "# array of zeros\n",
    "zeros = np.zeros((2,3))\n",
    "print(\"Zero:\\n\", zeros)"
   ]
  },
  {
   "cell_type": "code",
   "execution_count": 29,
   "id": "bb4a052c-428a-480c-a708-41699c6fe62a",
   "metadata": {},
   "outputs": [
    {
     "name": "stdout",
     "output_type": "stream",
     "text": [
      "Zero:\n",
      " [[1. 1. 1.]\n",
      " [1. 1. 1.]]\n"
     ]
    }
   ],
   "source": [
    "# array of ones\n",
    "\n",
    "ones = np.ones((2,3))\n",
    "print(\"Zero:\\n\", ones)"
   ]
  },
  {
   "cell_type": "code",
   "execution_count": 31,
   "id": "52b74d8e-d9ad-455c-a598-cb016630da10",
   "metadata": {},
   "outputs": [
    {
     "name": "stdout",
     "output_type": "stream",
     "text": [
      "Range [0 2 4 6 8]\n"
     ]
    }
   ],
   "source": [
    "# range of values\n",
    "range_arr = np.arange(0, 10, 2)\n",
    "print(\"Range\", range_arr)"
   ]
  },
  {
   "cell_type": "code",
   "execution_count": 32,
   "id": "0cad0b99-32c9-49b4-97b5-64423c96f1ff",
   "metadata": {},
   "outputs": [],
   "source": [
    "# Array Operation"
   ]
  },
  {
   "cell_type": "code",
   "execution_count": 35,
   "id": "23405a09-1255-4c31-a19d-c298edb70fb9",
   "metadata": {},
   "outputs": [
    {
     "name": "stdout",
     "output_type": "stream",
     "text": [
      "Original: [1 2 3 4 5]\n",
      "Add 5: [ 6  7  8  9 10]\n",
      "Square: [ 1  4  9 16 25]\n",
      "Divide: [0.5 1.  1.5 2.  2.5]\n"
     ]
    }
   ],
   "source": [
    "arr = np.array([1,2,3,4,5])\n",
    "print(\"Original:\", arr)\n",
    "print(\"Add 5:\", arr + 5)\n",
    "print(\"Square:\", arr ** 2)\n",
    "print(\"Divide:\", arr / 2)\n"
   ]
  },
  {
   "cell_type": "raw",
   "id": "aa800df9-ef3b-4d98-b948-6a93b9f716e4",
   "metadata": {},
   "source": []
  },
  {
   "cell_type": "code",
   "execution_count": 36,
   "id": "08f37494-c515-4f56-8331-0b2eed110b82",
   "metadata": {},
   "outputs": [],
   "source": [
    "# Indexing and Slicing"
   ]
  },
  {
   "cell_type": "code",
   "execution_count": 41,
   "id": "148077ab-9403-4573-9360-568e08cc7e7c",
   "metadata": {},
   "outputs": [
    {
     "name": "stdout",
     "output_type": "stream",
     "text": [
      "2D Array:\u0002 [[1 2 3]\n",
      " [4 5 6]]\n",
      "Element at [0,1]: 2\n",
      "First Row: [1 2 3]\n",
      "Second Col: [2 5]\n"
     ]
    }
   ],
   "source": [
    "arr_2d = np.array([[1,2,3],[4,5,6]])\n",
    "print(\"2D Array:\\2\", arr_2d)\n",
    "print(\"Element at [0,1]:\", arr_2d[0,1])\n",
    "print(\"First Row:\", arr_2d[0,:])\n",
    "print(\"Second Col:\", arr_2d[:, 1])"
   ]
  },
  {
   "cell_type": "code",
   "execution_count": 42,
   "id": "3d9d4077-a247-4baf-963e-99f8bac84304",
   "metadata": {},
   "outputs": [],
   "source": [
    "# Mathematical Functions"
   ]
  },
  {
   "cell_type": "code",
   "execution_count": 43,
   "id": "15de76b6-041c-4386-bf74-3ad0b3848b41",
   "metadata": {},
   "outputs": [
    {
     "name": "stdout",
     "output_type": "stream",
     "text": [
      "Array: [1 2 3 4]\n",
      "Sine: [ 0.84147098  0.90929743  0.14112001 -0.7568025 ]\n",
      "Sum: 10\n",
      "Mean: 2.5\n"
     ]
    }
   ],
   "source": [
    "arr = np.array([1,2,3,4])\n",
    "print(\"Array:\", arr)\n",
    "print(\"Sine:\", np.sin(arr))\n",
    "print(\"Sum:\", np.sum(arr))\n",
    "print(\"Mean:\", np.mean(arr))"
   ]
  },
  {
   "cell_type": "code",
   "execution_count": null,
   "id": "50887b05-a77d-492d-ba19-5d6a63af29e6",
   "metadata": {},
   "outputs": [],
   "source": [
    "# Reshaping Array"
   ]
  },
  {
   "cell_type": "code",
   "execution_count": 45,
   "id": "c760074d-4d04-442e-890e-63bdb8da2244",
   "metadata": {},
   "outputs": [
    {
     "name": "stdout",
     "output_type": "stream",
     "text": [
      "Original: [1 2 3 4 5 6]\n",
      "Reshape to 2x3:\n",
      " [[1 2 3]\n",
      " [4 5 6]]\n"
     ]
    }
   ],
   "source": [
    "arr = np.array([1,2,3,4,5,6])\n",
    "print(\"Original:\", arr)\n",
    "reshaped = arr.reshape(2,3)\n",
    "print(\"Reshape to 2x3:\\n\",reshaped)\n",
    "\n",
    "\n"
   ]
  },
  {
   "cell_type": "code",
   "execution_count": 47,
   "id": "013e3108-88c8-469b-b61b-95c5b7036d58",
   "metadata": {},
   "outputs": [
    {
     "name": "stdout",
     "output_type": "stream",
     "text": [
      "\n",
      "Reshaped to 1D array [1 2 3 4 5 6]\n",
      "Shaped: (6,)\n"
     ]
    }
   ],
   "source": [
    "arr_2d = np.array([[1,2,3],[4,5,6]])\n",
    "\n",
    "\n",
    "\n",
    "arr_1d = arr_2d.reshape(6)\n",
    "print(\"\\nReshaped to 1D array\", arr_1d)\n",
    "print(\"Shaped:\",arr_1d.shape)"
   ]
  },
  {
   "cell_type": "code",
   "execution_count": 50,
   "id": "fcd78028-fe9c-4c1c-8069-bff1c6b2bc93",
   "metadata": {},
   "outputs": [
    {
     "name": "stdout",
     "output_type": "stream",
     "text": [
      "Flattened: [1 2 3 4 5 6]\n"
     ]
    }
   ],
   "source": [
    "arr_1d_flat = arr_1d.flatten()\n",
    "print(\"Flattened:\",arr_1d_flat)"
   ]
  },
  {
   "cell_type": "code",
   "execution_count": null,
   "id": "3bc7ff06-1e37-41c6-8713-4741b009cda1",
   "metadata": {},
   "outputs": [],
   "source": []
  },
  {
   "cell_type": "code",
   "execution_count": null,
   "id": "0d06e192-29d5-4752-9684-1b140f747f15",
   "metadata": {},
   "outputs": [],
   "source": []
  },
  {
   "cell_type": "code",
   "execution_count": null,
   "id": "1e5b5612-d795-4051-bc5a-3e1d453151d7",
   "metadata": {},
   "outputs": [],
   "source": []
  },
  {
   "cell_type": "code",
   "execution_count": null,
   "id": "11b35aa6-bfe4-44a4-b0a5-2baf86ab59a9",
   "metadata": {},
   "outputs": [],
   "source": []
  },
  {
   "cell_type": "code",
   "execution_count": null,
   "id": "9c4d8de0-d93d-4ac7-b14e-3b81f5098076",
   "metadata": {},
   "outputs": [],
   "source": []
  },
  {
   "cell_type": "code",
   "execution_count": null,
   "id": "71b25a8d-d74a-48fc-b709-c4033f487430",
   "metadata": {},
   "outputs": [],
   "source": []
  },
  {
   "cell_type": "code",
   "execution_count": null,
   "id": "90eb39b6-1c7a-4445-9e11-9772d9bd4c28",
   "metadata": {},
   "outputs": [],
   "source": []
  },
  {
   "cell_type": "code",
   "execution_count": null,
   "id": "7f9b8b53-d9ec-430b-bfd3-c48a176a22ee",
   "metadata": {},
   "outputs": [],
   "source": []
  },
  {
   "cell_type": "code",
   "execution_count": null,
   "id": "3e227ea1-8f36-42ee-94a8-e1de3a884163",
   "metadata": {},
   "outputs": [],
   "source": []
  },
  {
   "cell_type": "code",
   "execution_count": null,
   "id": "e2885157-6c75-4181-8283-864fe7841b24",
   "metadata": {},
   "outputs": [],
   "source": []
  },
  {
   "cell_type": "code",
   "execution_count": null,
   "id": "9b1675d7-5539-4c06-a221-9e4e70fb46fe",
   "metadata": {},
   "outputs": [],
   "source": []
  },
  {
   "cell_type": "code",
   "execution_count": null,
   "id": "25bc84e5-983c-4aaf-9019-52cae0b85335",
   "metadata": {},
   "outputs": [],
   "source": []
  },
  {
   "cell_type": "code",
   "execution_count": null,
   "id": "6459565f-3a09-4542-90a5-45152906e89f",
   "metadata": {},
   "outputs": [],
   "source": []
  },
  {
   "cell_type": "code",
   "execution_count": null,
   "id": "1e9acb16-a28d-4694-970d-4b00004ceabc",
   "metadata": {},
   "outputs": [],
   "source": []
  },
  {
   "cell_type": "code",
   "execution_count": null,
   "id": "3c331a48-3117-4f8a-aaf9-40e71a4fae20",
   "metadata": {},
   "outputs": [],
   "source": []
  },
  {
   "cell_type": "code",
   "execution_count": null,
   "id": "ed139fae-fc05-448c-9cbf-a1cdb26a6a0d",
   "metadata": {},
   "outputs": [],
   "source": []
  },
  {
   "cell_type": "code",
   "execution_count": null,
   "id": "2a25b423-13e8-47ce-b8cf-70ad928216ff",
   "metadata": {},
   "outputs": [],
   "source": []
  }
 ],
 "metadata": {
  "kernelspec": {
   "display_name": "Python 3 (ipykernel)",
   "language": "python",
   "name": "python3"
  },
  "language_info": {
   "codemirror_mode": {
    "name": "ipython",
    "version": 3
   },
   "file_extension": ".py",
   "mimetype": "text/x-python",
   "name": "python",
   "nbconvert_exporter": "python",
   "pygments_lexer": "ipython3",
   "version": "3.13.3"
  }
 },
 "nbformat": 4,
 "nbformat_minor": 5
}
